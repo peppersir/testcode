{
 "cells": [
  {
   "cell_type": "markdown",
   "id": "0fbf91ab-ba65-443d-b629-aeb0b3db5432",
   "metadata": {
    "tags": []
   },
   "source": [
    "# Data Science Tools and Ecosystem"
   ]
  },
  {
   "cell_type": "markdown",
   "id": "fd495a7f-9458-4154-8fa4-8b2d2473c148",
   "metadata": {},
   "source": [
    "In this notebook, Data Science Tools and Ecosystem are summarized."
   ]
  },
  {
   "cell_type": "markdown",
   "id": "2be68798-61e6-4137-9d5f-b6f376563c04",
   "metadata": {
    "tags": []
   },
   "source": [
    "**Objectives:**\n",
    "- List popular languages for Data Science\n",
    "- List popular libraries for Data Science\n",
    "- List popular tools for Data Science\n",
    "- Evaluate arithmetic expressions in Python\n",
    "- ...\n"
   ]
  },
  {
   "cell_type": "markdown",
   "id": "06f047bd-38db-430b-a1f6-939f11e462f7",
   "metadata": {},
   "source": [
    "Some of the popular languages that Data Scientists use are:\n",
    "1. Python\n",
    "2. R\n",
    "3. Java"
   ]
  },
  {
   "cell_type": "markdown",
   "id": "98e647db-422f-41c8-9676-23403749cf64",
   "metadata": {},
   "source": [
    "Some of the commonly used libraries used by Data Scientists include:\n",
    "1. Pandas\n",
    "2. Numpy\n",
    "3. PyTorch"
   ]
  },
  {
   "cell_type": "markdown",
   "id": "c0502ebf-5c1b-42c4-b0f3-53de07029a89",
   "metadata": {},
   "source": [
    "| Data Science Tools|\n",
    "| ------------------|\n",
    "|Jupyter Notebooks|\n",
    "|Rstudio |\n",
    "|Spyder|"
   ]
  },
  {
   "cell_type": "markdown",
   "id": "4500477d-f530-453e-b87f-21c5e1000403",
   "metadata": {
    "tags": []
   },
   "source": [
    "### Below are a few examples of evaluating arithmetic expressions in Python"
   ]
  },
  {
   "cell_type": "code",
   "execution_count": 3,
   "id": "adfb2afa-435d-4665-960c-480de3a96adf",
   "metadata": {
    "tags": []
   },
   "outputs": [
    {
     "data": {
      "text/plain": [
       "17"
      ]
     },
     "execution_count": 3,
     "metadata": {},
     "output_type": "execute_result"
    }
   ],
   "source": [
    "# This a simple arithmetic expression to mutiply then add integers\n",
    "(3*4)+5"
   ]
  },
  {
   "cell_type": "code",
   "execution_count": 7,
   "id": "431cc3ac-f454-4cff-b6a6-3723e0da9ddb",
   "metadata": {
    "tags": []
   },
   "outputs": [
    {
     "name": "stdout",
     "output_type": "stream",
     "text": [
      "200 min is equivalent to 3.33 hours\n"
     ]
    }
   ],
   "source": [
    "# This will convert 200 minutes to hours by diving by 60\n",
    "min=200\n",
    "h=200/60\n",
    "print(str(min)' min is equivalent to '+\"{:.2f}\".format(200/60)+' hours')"
   ]
  },
  {
   "cell_type": "markdown",
   "id": "f5ae613a-f08f-4e71-92ee-f3e1ef78f6bc",
   "metadata": {
    "tags": []
   },
   "source": [
    "## Author\n",
    "Bastien"
   ]
  }
 ],
 "metadata": {
  "kernelspec": {
   "display_name": "Python",
   "language": "python",
   "name": "conda-env-python-py"
  },
  "language_info": {
   "codemirror_mode": {
    "name": "ipython",
    "version": 3
   },
   "file_extension": ".py",
   "mimetype": "text/x-python",
   "name": "python",
   "nbconvert_exporter": "python",
   "pygments_lexer": "ipython3",
   "version": "3.7.12"
  }
 },
 "nbformat": 4,
 "nbformat_minor": 5
}
